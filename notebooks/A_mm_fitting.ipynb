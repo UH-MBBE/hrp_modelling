{
 "cells": [
  {
   "cell_type": "markdown",
   "metadata": {},
   "source": [
    "# Notebook A: Mechalis Menton Fitting"
   ]
  },
  {
   "cell_type": "markdown",
   "metadata": {},
   "source": [
    "### Setup imports"
   ]
  },
  {
   "cell_type": "code",
   "execution_count": null,
   "metadata": {},
   "outputs": [],
   "source": [
    "import pandas as pd\n",
    "from scipy.optimize import curve_fit \n",
    "import matplotlib.pyplot as plt\n",
    "import numpy as np"
   ]
  },
  {
   "cell_type": "code",
   "execution_count": null,
   "metadata": {},
   "outputs": [],
   "source": [
    "phenol_hrp_to_peroxide_ratio_df = pd.read_csv('../data/phenol_hrp_to_peroxide_ratio.csv')\n",
    "\n",
    "phenol_hrp_to_peroxide_ratio_df"
   ]
  },
  {
   "cell_type": "markdown",
   "metadata": {},
   "source": [
    "### Define a function for finding MM fit (without uncertainty)"
   ]
  },
  {
   "cell_type": "code",
   "execution_count": null,
   "metadata": {},
   "outputs": [],
   "source": [
    "# Define the Michaelis-Menten equation\n",
    "def michaelis_menten(t, Vmax, Km):\n",
    "    return 1 - Vmax * t / (Km + t)\n",
    "\n",
    "def find_mm_fit(df, ratio): \n",
    "    # define the columns to use\n",
    "    column_1, column_2 = f'{ratio} hrp:peroxide phe 1', f'{ratio} hrp:peroxide phe 2'\n",
    "\n",
    "    time = df['time'].values\n",
    "    concentration = df[[column_1, column_2]].mean(axis=1).values\n",
    "\n",
    "    # Use curve_fit to find the best-fit parameters\n",
    "    initial_guess = [1, 1]  # You can adjust these initial guesses if needed\n",
    "    bounds = ([0, 0], [np.inf, np.inf])  # Vmax >= 0, Km >= 0\n",
    "\n",
    "    params, covariance = curve_fit(michaelis_menten, time, concentration, p0=initial_guess, bounds=bounds)\n",
    "\n",
    "    # fitted parameters\n",
    "    Vmax, Km = params\n",
    "\n",
    "    # find the fit data points\n",
    "    fitted_data = michaelis_menten(time, *params)\n",
    "\n",
    "    return Vmax, Km, fitted_data"
   ]
  },
  {
   "cell_type": "markdown",
   "metadata": {},
   "source": [
    "### Generate MM fits"
   ]
  },
  {
   "cell_type": "code",
   "execution_count": null,
   "metadata": {},
   "outputs": [],
   "source": [
    "Vmax_0_5_to_1, Km_0_5_to_1, data_0_5_to_1 = find_mm_fit(phenol_hrp_to_peroxide_ratio_df, '0.5:1')\n",
    "phenol_hrp_to_peroxide_ratio_df['0.5:1 MM fit'] = data_0_5_to_1\n",
    "\n",
    "Vmax_1_to_1, Km_1_to_1, data_1_to_1 = find_mm_fit(phenol_hrp_to_peroxide_ratio_df, '1:1')\n",
    "phenol_hrp_to_peroxide_ratio_df['1:1 MM fit'] = data_1_to_1\n",
    "\n",
    "Vmax_2_to_1, Km_2_to_1, data_2_to_1 = find_mm_fit(phenol_hrp_to_peroxide_ratio_df, '2:1')\n",
    "phenol_hrp_to_peroxide_ratio_df['2:1 MM fit'] = data_2_to_1\n",
    "\n",
    "phenol_hrp_to_peroxide_ratio_df"
   ]
  },
  {
   "cell_type": "markdown",
   "metadata": {},
   "source": [
    "### Plot the data and MM fits"
   ]
  },
  {
   "cell_type": "code",
   "execution_count": null,
   "metadata": {},
   "outputs": [],
   "source": [
    "time = phenol_hrp_to_peroxide_ratio_df['time'].values\n",
    "\n",
    "# Plotting the original data and the fitted curve\n",
    "plt.figure(figsize=(8, 6))\n",
    "\n",
    "# display 0.5:1 data and fit\n",
    "plt.scatter(time, phenol_hrp_to_peroxide_ratio_df['0.5:1 hrp:peroxide phe 1'], color='black', label='0.5:1 trial 1')\n",
    "plt.scatter(time, phenol_hrp_to_peroxide_ratio_df['0.5:1 hrp:peroxide phe 2'], color='black', marker='s', label='0.5:1 trial 2')\n",
    "plt.plot(time, phenol_hrp_to_peroxide_ratio_df['0.5:1 MM fit'], color='black', linestyle='--', label=f'0.5:1 Vmax={Vmax_0_5_to_1:.3f}, Km={Km_0_5_to_1:.3f}')\n",
    "\n",
    "# display 1:1 data and fit\n",
    "plt.scatter(time, phenol_hrp_to_peroxide_ratio_df['1:1 hrp:peroxide phe 1'], color='green', label='1:1 trial 1')\n",
    "plt.scatter(time, phenol_hrp_to_peroxide_ratio_df['1:1 hrp:peroxide phe 2'], color='green', marker='s', label='1:1 trial 2')\n",
    "plt.plot(time, phenol_hrp_to_peroxide_ratio_df['1:1 MM fit'], color='green', linestyle='--', label=f'1:1 Vmax={Vmax_1_to_1:.3f}, Km={Km_1_to_1:.3f}')\n",
    "\n",
    "# display 2:1 data and fit\n",
    "plt.scatter(time, phenol_hrp_to_peroxide_ratio_df['2:1 hrp:peroxide phe 1'], color='blue', label='2:1 trial 1')\n",
    "plt.scatter(time, phenol_hrp_to_peroxide_ratio_df['2:1 hrp:peroxide phe 2'], color='blue', marker='s', label='2:1 trial 2')\n",
    "plt.plot(time, phenol_hrp_to_peroxide_ratio_df['2:1 MM fit'], color='blue', linestyle='--',  label=f'2:1 Vmax={Vmax_2_to_1:.3f}, Km={Km_2_to_1:.3f}')\n",
    "\n",
    "plt.xlabel('Time (minutes)')\n",
    "plt.ylabel('Relative Phenol Concentration')\n",
    "plt.title('Effect of HRP:Hydrogen Peroxide Ratio on Phenol Removal')\n",
    "plt.legend(loc='center left', bbox_to_anchor=(1, 0.5))\n",
    "plt.show()"
   ]
  },
  {
   "cell_type": "markdown",
   "metadata": {},
   "source": [
    "### Calculate the uncertainty of Vmax and Km"
   ]
  },
  {
   "cell_type": "code",
   "execution_count": null,
   "metadata": {},
   "outputs": [],
   "source": [
    "def find_mm_fit_uncertainty(df, ratio): \n",
    "    # define the columns to use\n",
    "    column_1, column_2 = f'{ratio} hrp:peroxide phe 1', f'{ratio} hrp:peroxide phe 2'\n",
    "\n",
    "    time = df['time'].values\n",
    "    concentration_1 = df[[column_1]].values.flatten()\n",
    "    concentration_2 = df[[column_2]].values.flatten()\n",
    "\n",
    "    # Use curve_fit to find the best-fit parameters\n",
    "    initial_guess = [1, 1]  # You can adjust these initial guesses if needed\n",
    "    bounds = ([0, 0], [np.inf, np.inf])  # Vmax >= 0, Km >= 0\n",
    "\n",
    "    params_1, covariance = curve_fit(michaelis_menten, time, concentration_1, p0=initial_guess, bounds=bounds)\n",
    "    params_2, covariance = curve_fit(michaelis_menten, time, concentration_2, p0=initial_guess, bounds=bounds)\n",
    "\n",
    "    # fitted parameters\n",
    "    Vmax_1, Km_1 = params_1\n",
    "    Vmax_2, Km_2 = params_2\n",
    "\n",
    "    average_Vmax = (Vmax_1 + Vmax_2) / 2\n",
    "    average_Km = (Km_1 + Km_2) / 2\n",
    "\n",
    "    std_Vmax = np.std([Vmax_1, Vmax_2])\n",
    "    std_Km = np.std([Km_1, Km_2])\n",
    "\n",
    "    average_params = [average_Vmax, average_Km]\n",
    "\n",
    "    # find the fit data points\n",
    "    fitted_data = michaelis_menten(time, *average_params)\n",
    "\n",
    "    return average_Vmax, average_Km, std_Vmax, std_Km, fitted_data\n",
    "\n",
    "find_mm_fit_uncertainty(phenol_hrp_to_peroxide_ratio_df, '2:1')"
   ]
  },
  {
   "cell_type": "markdown",
   "metadata": {},
   "source": [
    "### Generate MM fits"
   ]
  },
  {
   "cell_type": "code",
   "execution_count": null,
   "metadata": {},
   "outputs": [],
   "source": [
    "Vmax_0_5_to_1, Km_0_5_to_1, Vmax_std_0_5_to_1, Km_std_0_5_to_1, data_0_5_to_1 = find_mm_fit_uncertainty(phenol_hrp_to_peroxide_ratio_df, '0.5:1')\n",
    "phenol_hrp_to_peroxide_ratio_df['0.5:1 MM fit'] = data_0_5_to_1\n",
    "\n",
    "Vmax_1_to_1, Km_1_to_1, Vmax_std_1_to_1, Km_std_1_to_1, data_1_to_1 = find_mm_fit_uncertainty(phenol_hrp_to_peroxide_ratio_df, '1:1')\n",
    "phenol_hrp_to_peroxide_ratio_df['1:1 MM fit'] = data_1_to_1\n",
    "\n",
    "Vmax_2_to_1, Km_2_to_1, Vmax_std_2_to_1, Km_std_2_to_1, data_2_to_1 = find_mm_fit_uncertainty(phenol_hrp_to_peroxide_ratio_df, '2:1')\n",
    "phenol_hrp_to_peroxide_ratio_df['2:1 MM fit'] = data_2_to_1\n",
    "\n",
    "phenol_hrp_to_peroxide_ratio_df"
   ]
  },
  {
   "cell_type": "markdown",
   "metadata": {},
   "source": [
    "### Plot the data and MM fits"
   ]
  },
  {
   "cell_type": "code",
   "execution_count": null,
   "metadata": {},
   "outputs": [],
   "source": [
    "time = phenol_hrp_to_peroxide_ratio_df['time'].values\n",
    "\n",
    "# Plotting the original data and the fitted curve\n",
    "plt.figure(figsize=(8, 6))\n",
    "\n",
    "# display 0.5:1 data and fit\n",
    "plt.scatter(time, phenol_hrp_to_peroxide_ratio_df['0.5:1 hrp:peroxide phe 1'], color='black', label='0.5:1 trial 1')\n",
    "plt.scatter(time, phenol_hrp_to_peroxide_ratio_df['0.5:1 hrp:peroxide phe 2'], color='black', marker='s', label='0.5:1 trial 2')\n",
    "plt.plot(time, phenol_hrp_to_peroxide_ratio_df['0.5:1 MM fit'], color='black', linestyle='--', label=f'0.5:1 Vmax={Vmax_0_5_to_1:.3f}, Km={Km_0_5_to_1:.3f}')\n",
    "\n",
    "# display 1:1 data and fit\n",
    "plt.scatter(time, phenol_hrp_to_peroxide_ratio_df['1:1 hrp:peroxide phe 1'], color='green', label='1:1 trial 1')\n",
    "plt.scatter(time, phenol_hrp_to_peroxide_ratio_df['1:1 hrp:peroxide phe 2'], color='green', marker='s', label='1:1 trial 2')\n",
    "plt.plot(time, phenol_hrp_to_peroxide_ratio_df['1:1 MM fit'], color='green', linestyle='--', label=f'1:1 Vmax={Vmax_1_to_1:.3f}, Km={Km_1_to_1:.3f}')\n",
    "\n",
    "# display 2:1 data and fit\n",
    "plt.scatter(time, phenol_hrp_to_peroxide_ratio_df['2:1 hrp:peroxide phe 1'], color='blue', label='2:1 trial 1')\n",
    "plt.scatter(time, phenol_hrp_to_peroxide_ratio_df['2:1 hrp:peroxide phe 2'], color='blue', marker='s', label='2:1 trial 2')\n",
    "plt.plot(time, phenol_hrp_to_peroxide_ratio_df['2:1 MM fit'], color='blue', linestyle='--',  label=f'2:1 Vmax={Vmax_2_to_1:.3f}, Km={Km_2_to_1:.3f}')\n",
    "\n",
    "plt.xlabel('Time (minutes)')\n",
    "plt.ylabel('Relative Phenol Concentration')\n",
    "plt.title('Effect of HRP:Hydrogen Peroxide Ratio on Phenol Removal')\n",
    "plt.legend(loc='center left', bbox_to_anchor=(1, 0.5))\n",
    "\n",
    "plt.savefig('../figures/peroxide_ratio_on_phenol.png', dpi=300, bbox_inches='tight')\n",
    "\n",
    "plt.show()"
   ]
  },
  {
   "cell_type": "markdown",
   "metadata": {},
   "source": [
    "### Save the parameters and their uncertainties"
   ]
  },
  {
   "cell_type": "code",
   "execution_count": null,
   "metadata": {},
   "outputs": [],
   "source": [
    "ratio_col = ['0.5 to 1', '1 to 1', '2 to 1']\n",
    "Vmax_col = [\n",
    "    f'{Vmax_0_5_to_1:.4f} ± {Vmax_std_0_5_to_1:.4f}', \n",
    "    f'{Vmax_1_to_1:.4f} ± {Vmax_std_1_to_1:.4f}', \n",
    "    f'{Vmax_2_to_1:.4f} ± {Vmax_std_2_to_1:.4f}'\n",
    "]\n",
    "\n",
    "Km_col = [\n",
    "    f'{Km_0_5_to_1:.4f} ± {Km_std_0_5_to_1:.4f}', \n",
    "    f'{Km_1_to_1:.4f} ± {Km_std_1_to_1:.4f}', \n",
    "    f'{Km_2_to_1:.4f} ± {Km_std_2_to_1:.4f}'\n",
    "]\n",
    "\n",
    "# Create a new DataFrame to display the results\n",
    "summary_df = pd.DataFrame({'Ratio': ratio_col, 'Vmax': Vmax_col, 'Km': Km_col})\n",
    "\n",
    "# save the summary to a csv file\n",
    "summary_df.to_csv('../results/hrp_to_peroxide_ratio_params.csv', index=False)\n",
    "\n",
    "summary_df\n"
   ]
  }
 ],
 "metadata": {
  "kernelspec": {
   "display_name": "venv",
   "language": "python",
   "name": "python3"
  },
  "language_info": {
   "codemirror_mode": {
    "name": "ipython",
    "version": 3
   },
   "file_extension": ".py",
   "mimetype": "text/x-python",
   "name": "python",
   "nbconvert_exporter": "python",
   "pygments_lexer": "ipython3",
   "version": "3.10.2"
  }
 },
 "nbformat": 4,
 "nbformat_minor": 2
}
